{
 "cells": [
  {
   "cell_type": "markdown",
   "metadata": {},
   "source": [
    "<H3>TO RUN THE PROGRAM GO TO:<H3>\n",
    "\n",
    "- CELL\n",
    "- RUN ALL\n",
    "- REPEAT PROCESS TO GENERATE NEW PROMPT \n",
    "- OR YOU CAN JUST CLICK THE CELL AND HIT CONTROL+ENTER (REPEAT TO GENERATE NEW PROMPTS)"
   ]
  },
  {
   "cell_type": "code",
   "execution_count": 2,
   "metadata": {
    "ExecuteTime": {
     "end_time": "2020-03-15T21:18:09.297089Z",
     "start_time": "2020-03-15T21:18:08.727663Z"
    },
    "collapsed": true
   },
   "outputs": [],
   "source": [
    "from IPython.core.display import display, HTML\n",
    "from bs4 import BeautifulSoup\n",
    "import requests\n",
    "import random"
   ]
  },
  {
   "cell_type": "code",
   "execution_count": 3,
   "metadata": {
    "ExecuteTime": {
     "end_time": "2020-03-15T21:18:11.520518Z",
     "start_time": "2020-03-15T21:18:10.914564Z"
    }
   },
   "outputs": [],
   "source": [
    "page = requests.get(\"https://www.ets.org/gre/revised_general/prepare/analytical_writing/argument/pool\")\n",
    "soup = BeautifulSoup(page.content, 'html.parser')"
   ]
  },
  {
   "cell_type": "code",
   "execution_count": 4,
   "metadata": {
    "ExecuteTime": {
     "end_time": "2020-03-15T21:18:16.238835Z",
     "start_time": "2020-03-15T21:18:16.204152Z"
    },
    "collapsed": true
   },
   "outputs": [],
   "source": [
    "body=[par.renderContents() for par in soup.find_all('p')][2:-6]"
   ]
  },
  {
   "cell_type": "code",
   "execution_count": 30,
   "metadata": {
    "ExecuteTime": {
     "end_time": "2020-03-15T21:36:49.776447Z",
     "start_time": "2020-03-15T21:36:49.768230Z"
    },
    "collapsed": true,
    "scrolled": true
   },
   "outputs": [],
   "source": [
    "l=[]\n",
    "prompt = []\n",
    "for sent in body:\n",
    "    prompt.append(sent.decode('utf-8'))\n",
    "    if sent.decode('utf-8').startswith('Write a response'):\n",
    "        l.append(prompt)\n",
    "        prompt = []"
   ]
  },
  {
   "cell_type": "code",
   "execution_count": 33,
   "metadata": {
    "ExecuteTime": {
     "end_time": "2020-03-15T21:36:58.840287Z",
     "start_time": "2020-03-15T21:36:58.832593Z"
    },
    "collapsed": true
   },
   "outputs": [],
   "source": [
    "new_prompt=[]\n",
    "for i in l:\n",
    "    if len(i)>2:\n",
    "        i[0] = i[0] + '<br> <br>' + i[1]\n",
    "        i.pop(1)\n",
    "    new_prompt.append(i)"
   ]
  },
  {
   "cell_type": "code",
   "execution_count": 115,
   "metadata": {
    "ExecuteTime": {
     "end_time": "2020-03-15T22:13:12.511594Z",
     "start_time": "2020-03-15T22:13:12.489278Z"
    },
    "scrolled": false
   },
   "outputs": [
    {
     "data": {
      "text/html": [
       "<script>\n",
       "code_show=true; \n",
       "function code_toggle() {\n",
       " if (code_show){\n",
       " $('div.input').hide();\n",
       " } else {\n",
       " $('div.input').show();\n",
       " }\n",
       " code_show = !code_show\n",
       "} \n",
       "$( document ).ready(code_toggle);\n",
       "</script>\n",
       "<form action=\"javascript:code_toggle()\"><input type=\"submit\" value=\"Click here to toggle on/off the raw code.\"></form><p>The following appeared in a recommendation from the president of Amburg's Chamber of Commerce.<br> <br>\"Last October the city of Belleville installed high-intensity lighting in its central business district, and vandalism there declined within a month. The city of Amburg has recently begun police patrols on bicycles in its business district, but the rate of vandalism there remains constant. We should install high-intensity lighting throughout Amburg, then, because doing so is a more effective way to combat crime. By reducing crime in this way, we can revitalize the declining neighborhoods in our city.\"</p><br><span style=\"padding-left: 20px; display:block\"><p><i>Write a response in which you discuss what specific evidence is needed to evaluate the argument and explain how the evidence would weaken or strengthen the argument.</i></p></span>"
      ],
      "text/plain": [
       "<IPython.core.display.HTML object>"
      ]
     },
     "execution_count": 115,
     "metadata": {},
     "output_type": "execute_result"
    }
   ],
   "source": [
    "random_prompt = random.choice(new_prompt)\n",
    "HTML('''<script>\n",
    "code_show=true; \n",
    "function code_toggle() {\n",
    " if (code_show){\n",
    " $('div.input').hide();\n",
    " } else {\n",
    " $('div.input').show();\n",
    " }\n",
    " code_show = !code_show\n",
    "} \n",
    "$( document ).ready(code_toggle);\n",
    "</script>\n",
    "<form action=\"javascript:code_toggle()\"><input type=\"submit\" value=\"Click here to toggle on/off the raw code.\"></form>'''\n",
    "    \n",
    "    '<p>'+ ''.join(random_prompt[:-1]).replace('$','\\$') + '</p>' \n",
    "     + \n",
    "     '<br>' \n",
    "     + \n",
    "     '<span style=\"padding-left: 20px; display:block\">'+\n",
    "         '<p>'+ '<i>' + random_prompt[-1] + '</i>' + '</p>' +\n",
    "     '</span>'  \n",
    "    )"
   ]
  },
  {
   "cell_type": "markdown",
   "metadata": {},
   "source": [
    "<H1> CLICK HERE TO TYPE RESPONSE <H1>"
   ]
  }
 ],
 "metadata": {
  "kernelspec": {
   "display_name": "Python 3",
   "language": "python",
   "name": "python3"
  },
  "language_info": {
   "codemirror_mode": {
    "name": "ipython",
    "version": 3
   },
   "file_extension": ".py",
   "mimetype": "text/x-python",
   "name": "python",
   "nbconvert_exporter": "python",
   "pygments_lexer": "ipython3",
   "version": "3.6.1"
  }
 },
 "nbformat": 4,
 "nbformat_minor": 2
}
