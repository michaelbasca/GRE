{
 "cells": [
  {
   "cell_type": "markdown",
   "metadata": {},
   "source": [
    "<H3>TO RUN THE PROGRAM GO TO:<H3>\n",
    "- CELL\n",
    "- RUN ALL"
   ]
  },
  {
   "cell_type": "code",
   "execution_count": 376,
   "metadata": {
    "ExecuteTime": {
     "end_time": "2020-03-15T20:55:22.818884Z",
     "start_time": "2020-03-15T20:55:22.800423Z"
    },
    "collapsed": true
   },
   "outputs": [],
   "source": [
    "from IPython.core.display import display, HTML\n",
    "from bs4 import BeautifulSoup\n",
    "import requests\n",
    "import random"
   ]
  },
  {
   "cell_type": "code",
   "execution_count": 377,
   "metadata": {
    "ExecuteTime": {
     "end_time": "2020-03-15T20:55:23.138973Z",
     "start_time": "2020-03-15T20:55:22.823453Z"
    }
   },
   "outputs": [],
   "source": [
    "page = requests.get(\"https://www.ets.org/gre/revised_general/prepare/analytical_writing/issue/pool\")\n",
    "soup = BeautifulSoup(page.content, 'html.parser')"
   ]
  },
  {
   "cell_type": "code",
   "execution_count": 378,
   "metadata": {
    "ExecuteTime": {
     "end_time": "2020-03-15T20:55:23.161101Z",
     "start_time": "2020-03-15T20:55:23.141567Z"
    }
   },
   "outputs": [],
   "source": [
    "body=[par.renderContents() for par in soup.find_all('p')][2:-6]"
   ]
  },
  {
   "cell_type": "code",
   "execution_count": 379,
   "metadata": {
    "ExecuteTime": {
     "end_time": "2020-03-15T20:55:23.178833Z",
     "start_time": "2020-03-15T20:55:23.164612Z"
    },
    "scrolled": true
   },
   "outputs": [],
   "source": [
    "l=[]\n",
    "prompt = []\n",
    "for sent in body:\n",
    "    prompt.append(sent.decode('utf-8'))\n",
    "    if sent.decode('utf-8').startswith('Write a response'):\n",
    "        l.append(prompt)\n",
    "        prompt = []"
   ]
  },
  {
   "cell_type": "code",
   "execution_count": 380,
   "metadata": {
    "ExecuteTime": {
     "end_time": "2020-03-15T20:55:23.195972Z",
     "start_time": "2020-03-15T20:55:23.183725Z"
    }
   },
   "outputs": [],
   "source": [
    "new_prompt=[]\n",
    "for i in l:\n",
    "    if len(i)>2:\n",
    "        i[0] = i[0] + '<br> <br>' + i[1]\n",
    "        i.pop(1)\n",
    "    new_prompt.append(i)"
   ]
  },
  {
   "cell_type": "code",
   "execution_count": 381,
   "metadata": {
    "ExecuteTime": {
     "end_time": "2020-03-15T20:55:23.224081Z",
     "start_time": "2020-03-15T20:55:23.201350Z"
    },
    "scrolled": true
   },
   "outputs": [
    {
     "data": {
      "text/html": [
       "<script>\n",
       "code_show=true; \n",
       "function code_toggle() {\n",
       " if (code_show){\n",
       " $('div.input').hide();\n",
       " } else {\n",
       " $('div.input').show();\n",
       " }\n",
       " code_show = !code_show\n",
       "} \n",
       "$( document ).ready(code_toggle);\n",
       "</script>\n",
       "<form action=\"javascript:code_toggle()\"><input type=\"submit\" value=\"Click here to toggle on/off the raw code.\"></form><p>The best test of an argument is the argument's ability to convince someone with an opposing viewpoint.</p><br><span style=\"padding-left: 20px; display:block\"><p><i>Write a response in which you discuss the extent to which you agree or disagree with the statement and explain your reasoning for the position you take. In developing and supporting your position, you should consider ways in which the statement might or might not hold true and explain how these considerations shape your position.</i></p></span>"
      ],
      "text/plain": [
       "<IPython.core.display.HTML object>"
      ]
     },
     "execution_count": 381,
     "metadata": {},
     "output_type": "execute_result"
    }
   ],
   "source": [
    "random_prompt = random.choice(new_prompt)\n",
    "HTML('''<script>\n",
    "code_show=true; \n",
    "function code_toggle() {\n",
    " if (code_show){\n",
    " $('div.input').hide();\n",
    " } else {\n",
    " $('div.input').show();\n",
    " }\n",
    " code_show = !code_show\n",
    "} \n",
    "$( document ).ready(code_toggle);\n",
    "</script>\n",
    "<form action=\"javascript:code_toggle()\"><input type=\"submit\" value=\"Click here to toggle on/off the raw code.\"></form>'''\n",
    "    \n",
    "    '<p>'+ random_prompt[0] + '</p>' \n",
    "     + \n",
    "     '<br>' \n",
    "     + \n",
    "     '<span style=\"padding-left: 20px; display:block\">'+\n",
    "         '<p>'+ '<i>' + random_prompt[1] + '</i>' + '</p>'\n",
    "     '</span>'  \n",
    "     )"
   ]
  },
  {
   "cell_type": "markdown",
   "metadata": {},
   "source": [
    "<H1> CLICK HERE TO TYPE RESPONSE <H1>"
   ]
  }
 ],
 "metadata": {
  "kernelspec": {
   "display_name": "Python 3",
   "language": "python",
   "name": "python3"
  },
  "language_info": {
   "codemirror_mode": {
    "name": "ipython",
    "version": 3
   },
   "file_extension": ".py",
   "mimetype": "text/x-python",
   "name": "python",
   "nbconvert_exporter": "python",
   "pygments_lexer": "ipython3",
   "version": "3.6.1"
  }
 },
 "nbformat": 4,
 "nbformat_minor": 2
}
